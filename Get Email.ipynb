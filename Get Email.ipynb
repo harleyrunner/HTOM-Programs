{
 "cells": [
  {
   "cell_type": "code",
   "execution_count": null,
   "metadata": {},
   "outputs": [],
   "source": [
    "import imaplib, email, os\n",
    "import getpass as gp"
   ]
  },
  {
   "cell_type": "code",
   "execution_count": null,
   "metadata": {},
   "outputs": [],
   "source": [
    "# Cisco Email\n",
    "user = input('What is your Cisco email? ') \n",
    "# user = 'pawebb@cisco.com' # Hardcoded\n",
    "\n",
    "# Email Password\n",
    "pwd = gp.getpass(\"Whats your password?\")\n",
    "# pwd = 'XXXXXX' # Hardcoded\n",
    "\n",
    "imap_url = 'mail.cisco.com'\n",
    "attachment_dir = 'attachments' # Make a directory with the name of your choice"
   ]
  },
  {
   "cell_type": "code",
   "execution_count": null,
   "metadata": {},
   "outputs": [],
   "source": [
    "def auth(user,pwd,imap_url):\n",
    "    con = imaplib.IMAP4_SSL(imap_url)\n",
    "    con.login(user,pwd)\n",
    "    return con"
   ]
  },
  {
   "cell_type": "code",
   "execution_count": null,
   "metadata": {},
   "outputs": [],
   "source": [
    "def get_body(msg):\n",
    "    if msg.is_multipart():\n",
    "        return get_body(msg.get_payload(0))\n",
    "    else:\n",
    "        return msg.get_payload(None, True)"
   ]
  },
  {
   "cell_type": "code",
   "execution_count": null,
   "metadata": {},
   "outputs": [],
   "source": [
    "def get_attachments(msg):\n",
    "    for part in msg.walk():\n",
    "        if part.get_content_maintype()=='multipart':\n",
    "            continue\n",
    "        if part.get('Content-Disposition') is None:\n",
    "            continue\n",
    "        fileName = part.get_filename()\n",
    "        \n",
    "        if bool(fileName):\n",
    "            filePath = os.path.join(attachment_dir, fileName)\n",
    "            with open(filePath,'wb') as f:\n",
    "                f.write(part.get_payload(decode=True))"
   ]
  },
  {
   "cell_type": "code",
   "execution_count": null,
   "metadata": {},
   "outputs": [],
   "source": [
    "def get_emails(result_bytes):\n",
    "    msgs = []\n",
    "    for num in result_bytes[0].split():\n",
    "        typ, data = con.fetch(num, '(RFC822)')\n",
    "        msgs.append(data)\n",
    "    return msgs"
   ]
  },
  {
   "cell_type": "code",
   "execution_count": null,
   "metadata": {},
   "outputs": [],
   "source": [
    "def search(key,value,con):\n",
    "    result,data = con.search(None,key,'\"{}\"'.format(value))\n",
    "    return data"
   ]
  },
  {
   "cell_type": "code",
   "execution_count": null,
   "metadata": {},
   "outputs": [],
   "source": [
    "con = auth(user,pwd,imap_url)\n",
    "con.select('INBOX/BOA/PMO')"
   ]
  },
  {
   "cell_type": "code",
   "execution_count": null,
   "metadata": {},
   "outputs": [],
   "source": [
    "result, data = con.fetch(b'4','(RFC822)')\n",
    "raw = email.message_from_bytes(data[0][1])\n",
    "# print(get_body(raw))\n",
    "get_attachments(raw)"
   ]
  },
  {
   "cell_type": "code",
   "execution_count": null,
   "metadata": {},
   "outputs": [],
   "source": []
  },
  {
   "cell_type": "markdown",
   "metadata": {},
   "source": [
    "    Search for emails by subject"
   ]
  },
  {
   "cell_type": "code",
   "execution_count": null,
   "metadata": {},
   "outputs": [],
   "source": [
    "# msgs = get_emails(search('Subject','Vendor Engagement Request for Cisco-D',con))"
   ]
  },
  {
   "cell_type": "code",
   "execution_count": null,
   "metadata": {},
   "outputs": [],
   "source": [
    "# msgs = get_emails(search('Subject','test',con))"
   ]
  }
 ],
 "metadata": {
  "kernelspec": {
   "display_name": "Python 3",
   "language": "python",
   "name": "python3"
  },
  "language_info": {
   "codemirror_mode": {
    "name": "ipython",
    "version": 3
   },
   "file_extension": ".py",
   "mimetype": "text/x-python",
   "name": "python",
   "nbconvert_exporter": "python",
   "pygments_lexer": "ipython3",
   "version": "3.6.4"
  }
 },
 "nbformat": 4,
 "nbformat_minor": 2
}
